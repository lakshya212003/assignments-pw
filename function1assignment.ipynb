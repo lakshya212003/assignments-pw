{
 "cells": [
  {
   "cell_type": "code",
   "execution_count": 6,
   "id": "7ae4b3d5-2ce7-4461-bcea-bd766252f630",
   "metadata": {},
   "outputs": [
    {
     "name": "stdout",
     "output_type": "stream",
     "text": [
      "1  \n",
      "3  \n",
      "5  \n",
      "7  \n",
      "9  \n",
      "11  \n",
      "13  \n",
      "15  \n",
      "17  \n",
      "19  \n",
      "21  \n",
      "23  \n",
      "25  \n"
     ]
    }
   ],
   "source": [
    "#Q1\n",
    "''' the keyword used for creating a function is 'def'  '''\n",
    "def odd():\n",
    "    for i in range(1,26):\n",
    "        if i%2 !=0:\n",
    "            print(i,\" \")\n",
    "odd()            "
   ]
  },
  {
   "cell_type": "code",
   "execution_count": 9,
   "id": "fe45d75e-31db-45eb-a818-195577ced77d",
   "metadata": {},
   "outputs": [
    {
     "name": "stdout",
     "output_type": "stream",
     "text": [
      "('pw', 'skills')\n",
      "{'firstname': 'rohit', 'lastname': 'sharma'}\n"
     ]
    }
   ],
   "source": [
    "#Q2\n",
    "'''We use *args and **kwargs as an argument when we are unsure about the number of arguments to pass in the functions.'''\n",
    "def func1(*args):\n",
    "    print(args)\n",
    "func1(\"pw\",\"skills\") \n",
    "\n",
    "def func2(**kwargs):\n",
    "    print(kwargs)\n",
    "func2(firstname=\"rohit\",lastname = \"sharma\")"
   ]
  },
  {
   "cell_type": "code",
   "execution_count": 12,
   "id": "04f63806-4cef-4aed-aa54-67c5fada8cb8",
   "metadata": {},
   "outputs": [
    {
     "name": "stdout",
     "output_type": "stream",
     "text": [
      "2\n",
      "4\n",
      "6\n",
      "8\n",
      "10\n"
     ]
    }
   ],
   "source": [
    "#Q3\n",
    "'''An iterator in Python is an object that is used to iterate over iterable objects like lists, tuples, dicts, and sets.\n",
    "iter() method is used to initialize the iterator object. '''\n",
    "l=[2, 4, 6, 8, 10, 12, 14,16,18,20]\n",
    "x=iter(l)\n",
    "\n",
    "print(next(x))\n",
    "print(next(x))\n",
    "print(next(x))\n",
    "print(next(x))\n",
    "print(next(x))\n",
    "\n"
   ]
  },
  {
   "cell_type": "code",
   "execution_count": 22,
   "id": "5e3a78a6-585a-486f-9102-90efca5dab3b",
   "metadata": {},
   "outputs": [
    {
     "name": "stdout",
     "output_type": "stream",
     "text": [
      "1\n",
      "2\n",
      "3\n",
      "5\n",
      "8\n",
      "13\n",
      "21\n",
      "34\n",
      "55\n",
      "89\n"
     ]
    }
   ],
   "source": [
    "#Q4\n",
    "'''A generator-function is defined like a normal function, but whenever it needs to generate a value, it does so with the yield keyword rather than return. If the body of a def contains yield, the function automatically becomes a generator function. \n",
    "The yield statement suspends a function’s execution and sends a value back to the caller, but retains enough state to enable the function to resume where it left off. When the function resumes, it continues execution immediately after the last yield run. This allows its code to produce a series of values over time, rather than computing them at once and sending them back like a list.'''\n",
    "\n",
    "def fib_gen(n):\n",
    "\n",
    "    a = 0\n",
    "    b = 1\n",
    "    count = 0\n",
    "    while count < n:\n",
    "        c = a + b\n",
    "        a,b = b, c\n",
    "        yield c\n",
    "        count += 1\n",
    "\n",
    "\n",
    "myfib = fib_gen(10)\n",
    "for i in myfib:\n",
    "    print(i)\n",
    "\n"
   ]
  },
  {
   "cell_type": "code",
   "execution_count": 29,
   "id": "614ff41a-206d-416a-8e2d-c847a73fb778",
   "metadata": {},
   "outputs": [
    {
     "name": "stdout",
     "output_type": "stream",
     "text": [
      "1\n",
      "2\n",
      "3\n",
      "4\n",
      "5\n",
      "6\n",
      "7\n",
      "8\n",
      "9\n",
      "10\n",
      "11\n",
      "12\n",
      "13\n",
      "14\n",
      "15\n",
      "16\n",
      "17\n",
      "18\n",
      "19\n"
     ]
    }
   ],
   "source": [
    "#Q5\n",
    "def func3():\n",
    "    for i in range(1,1000):\n",
    "        if(i!=0):\n",
    "            yield i\n",
    "            \n",
    "y=func3()\n",
    "\n",
    "print(next(y))\n",
    "print(next(y))\n",
    "print(next(y))\n",
    "print(next(y))\n",
    "print(next(y))\n",
    "print(next(y))\n",
    "print(next(y))\n",
    "print(next(y))\n",
    "print(next(y))\n",
    "print(next(y))\n",
    "print(next(y))\n",
    "print(next(y))\n",
    "print(next(y))\n",
    "print(next(y))\n",
    "print(next(y))\n",
    "print(next(y))\n",
    "print(next(y))\n",
    "print(next(y))\n",
    "print(next(y))"
   ]
  },
  {
   "cell_type": "code",
   "execution_count": null,
   "id": "863ad2ba-4c72-4041-a4d9-c3dd7ef830e8",
   "metadata": {},
   "outputs": [],
   "source": []
  },
  {
   "cell_type": "code",
   "execution_count": null,
   "id": "6a186bad-556e-439c-9c5a-d037bef14d8a",
   "metadata": {},
   "outputs": [],
   "source": []
  },
  {
   "cell_type": "code",
   "execution_count": null,
   "id": "5c55b76c-0e85-4985-a813-12200985ee2a",
   "metadata": {},
   "outputs": [],
   "source": []
  }
 ],
 "metadata": {
  "kernelspec": {
   "display_name": "Python 3 (ipykernel)",
   "language": "python",
   "name": "python3"
  },
  "language_info": {
   "codemirror_mode": {
    "name": "ipython",
    "version": 3
   },
   "file_extension": ".py",
   "mimetype": "text/x-python",
   "name": "python",
   "nbconvert_exporter": "python",
   "pygments_lexer": "ipython3",
   "version": "3.10.8"
  }
 },
 "nbformat": 4,
 "nbformat_minor": 5
}
