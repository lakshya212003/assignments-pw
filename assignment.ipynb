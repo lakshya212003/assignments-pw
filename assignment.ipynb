{
 "cells": [
  {
   "cell_type": "code",
   "execution_count": 36,
   "id": "e81ed2e0-59a8-4bf6-9cbd-498074cce18d",
   "metadata": {},
   "outputs": [
    {
     "name": "stdout",
     "output_type": "stream",
     "text": [
      "[('Jack Kallis', 25534), ('Ricky Ponting', 27483), ('Sachin Tendulkar', 34357), ('Virat Kohli', 24936)]\n"
     ]
    }
   ],
   "source": [
    "#Q1\n",
    "l1=[('Sachin Tendulkar', 34357), ('Ricky Ponting', 27483), ('Jack Kallis', 25534), ('Virat Kohli', 24936)]\n",
    "x=lambda x:sorted(x)\n",
    "print(x(l1))"
   ]
  },
  {
   "cell_type": "code",
   "execution_count": 34,
   "id": "ce58d347-e711-4c00-81dd-8e62cc23378f",
   "metadata": {},
   "outputs": [
    {
     "name": "stdout",
     "output_type": "stream",
     "text": [
      "[1, 4, 9, 16, 25, 36, 49, 64, 81, 100]\n"
     ]
    }
   ],
   "source": [
    "#Q2\n",
    "l=[1, 2, 3, 4, 5, 6, 7, 8, 9, 10]\n",
    "x=list(map(lambda x:x**2,l))\n",
    "print(x)"
   ]
  },
  {
   "cell_type": "code",
   "execution_count": 32,
   "id": "4222ce41-6bdd-4bb1-b02b-465e271d8b67",
   "metadata": {},
   "outputs": [
    {
     "name": "stdout",
     "output_type": "stream",
     "text": [
      "('1', '2', '3', '4', '5', '6', '7', '8', '9', '10')\n"
     ]
    }
   ],
   "source": [
    "#Q3\n",
    "l1=[1,2,3,4,5,6,7,8,9,10]\n",
    "x=tuple(map(lambda x:str(x),l1))\n",
    "print(x)"
   ]
  },
  {
   "cell_type": "code",
   "execution_count": 33,
   "id": "4b4886e7-9a78-464d-bf9d-b4acb0f57227",
   "metadata": {},
   "outputs": [
    {
     "data": {
      "text/plain": [
       "15511210043330985984000000"
      ]
     },
     "execution_count": 33,
     "metadata": {},
     "output_type": "execute_result"
    }
   ],
   "source": [
    "#Q4\n",
    "l3=range(1,26)\n",
    "from functools import reduce\n",
    "reduce(lambda x,y:x*y ,l3)\n"
   ]
  },
  {
   "cell_type": "code",
   "execution_count": 27,
   "id": "8a8e9850-e009-4bf1-a56c-9eed994bdb9d",
   "metadata": {},
   "outputs": [
    {
     "name": "stdout",
     "output_type": "stream",
     "text": [
      "2\n",
      "3\n",
      "6\n",
      "9\n",
      "27\n",
      "60\n",
      "90\n",
      "120\n",
      "46\n"
     ]
    },
    {
     "data": {
      "text/plain": [
       "[]"
      ]
     },
     "execution_count": 27,
     "metadata": {},
     "output_type": "execute_result"
    }
   ],
   "source": [
    "#Q5\n",
    "l4=[2, 3, 6, 9, 27, 60, 90, 120, 55, 46]\n",
    "\n",
    "def div(x):\n",
    "    if x%2==0 or x%3==0:\n",
    "       print(x)\n",
    "list(filter(div ,l4))"
   ]
  },
  {
   "cell_type": "code",
   "execution_count": 30,
   "id": "33811632-eb15-4517-af59-010f7ec0be0a",
   "metadata": {},
   "outputs": [
    {
     "data": {
      "text/plain": [
       "['php', 'aba', 'radar', 'level']"
      ]
     },
     "execution_count": 30,
     "metadata": {},
     "output_type": "execute_result"
    }
   ],
   "source": [
    "#Q6\n",
    "l5=['python', 'php', 'aba', 'radar', 'level']\n",
    "list(filter(lambda s:s==s[::-1],l5))"
   ]
  },
  {
   "cell_type": "code",
   "execution_count": 29,
   "id": "c01bf940-21d4-4786-bd78-73acf0d0090b",
   "metadata": {},
   "outputs": [
    {
     "data": {
      "text/plain": [
       "['php', 'aba', 'radar', 'level']"
      ]
     },
     "execution_count": 29,
     "metadata": {},
     "output_type": "execute_result"
    }
   ],
   "source": []
  },
  {
   "cell_type": "code",
   "execution_count": null,
   "id": "68ece144-b36e-4ba9-a3c9-9c7f2e1dbf58",
   "metadata": {},
   "outputs": [],
   "source": []
  }
 ],
 "metadata": {
  "kernelspec": {
   "display_name": "Python 3 (ipykernel)",
   "language": "python",
   "name": "python3"
  },
  "language_info": {
   "codemirror_mode": {
    "name": "ipython",
    "version": 3
   },
   "file_extension": ".py",
   "mimetype": "text/x-python",
   "name": "python",
   "nbconvert_exporter": "python",
   "pygments_lexer": "ipython3",
   "version": "3.10.8"
  }
 },
 "nbformat": 4,
 "nbformat_minor": 5
}
